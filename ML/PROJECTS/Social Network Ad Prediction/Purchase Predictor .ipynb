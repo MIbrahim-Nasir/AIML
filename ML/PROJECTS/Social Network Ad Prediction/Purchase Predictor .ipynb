{
 "cells": [
  {
   "cell_type": "code",
   "execution_count": 4,
   "id": "b3d34059",
   "metadata": {},
   "outputs": [
    {
     "name": "stdout",
     "output_type": "stream",
     "text": [
      "Enter age: 25\n",
      "Enter salary: 10000\n",
      "You most likely will not purchase it\n"
     ]
    },
    {
     "name": "stderr",
     "output_type": "stream",
     "text": [
      "C:\\Users\\ibrda\\anaconda3\\Lib\\site-packages\\sklearn\\base.py:464: UserWarning: X does not have valid feature names, but DecisionTreeClassifier was fitted with feature names\n",
      "  warnings.warn(\n"
     ]
    }
   ],
   "source": [
    "import pandas as pd\n",
    "import joblib\n",
    "import sys\n",
    "\n",
    "def predict(age, sal):\n",
    "        model = joblib.load('Purchase_predictor.joblib')\n",
    "\n",
    "        return model.predict([[age,salary]])\n",
    "\n",
    "    \n",
    "age = int(input(\"Enter age: \"))\n",
    "salary = int(input(\"Enter salary: \"))\n",
    "\n",
    "prediction = predict(age, salary)\n",
    "\n",
    "if prediction[0]:\n",
    "    print(\"You are likely to puchase it.\")\n",
    "else:\n",
    "    print(\"You most likely will not purchase it\")"
   ]
  },
  {
   "cell_type": "code",
   "execution_count": null,
   "id": "ea821cdc",
   "metadata": {},
   "outputs": [],
   "source": []
  },
  {
   "cell_type": "code",
   "execution_count": null,
   "id": "82098667",
   "metadata": {},
   "outputs": [],
   "source": []
  }
 ],
 "metadata": {
  "kernelspec": {
   "display_name": "Python 3 (ipykernel)",
   "language": "python",
   "name": "python3"
  },
  "language_info": {
   "codemirror_mode": {
    "name": "ipython",
    "version": 3
   },
   "file_extension": ".py",
   "mimetype": "text/x-python",
   "name": "python",
   "nbconvert_exporter": "python",
   "pygments_lexer": "ipython3",
   "version": "3.11.5"
  }
 },
 "nbformat": 4,
 "nbformat_minor": 5
}
